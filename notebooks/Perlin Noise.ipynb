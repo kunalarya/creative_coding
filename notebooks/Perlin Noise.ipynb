{
 "cells": [
  {
   "cell_type": "code",
   "execution_count": null,
   "metadata": {},
   "outputs": [],
   "source": [
    "import os\n",
    "\n",
    "import cv2\n",
    "import matplotlib.pyplot as plt\n",
    "import numpy as np\n",
    "import scipy.ndimage as scipy_img\n",
    "from cv2 import VideoWriter, VideoWriter_fourcc"
   ]
  },
  {
   "cell_type": "code",
   "execution_count": null,
   "metadata": {},
   "outputs": [],
   "source": [
    "# From: https://stackoverflow.com/a/42154921\n",
    "def perlin(x: np.ndarray, y: np.ndarray, seed=0):\n",
    "    # permutation table\n",
    "    np.random.seed(seed)\n",
    "    p = np.arange(256, dtype=int)\n",
    "    np.random.shuffle(p)\n",
    "    p = np.stack([p, p]).flatten()\n",
    "    # coordinates of the top-left\n",
    "    xi = x.astype(int)\n",
    "    yi = y.astype(int)\n",
    "    # internal coordinates\n",
    "    xf = x - xi\n",
    "    yf = y - yi\n",
    "    # fade factors\n",
    "    u = fade(xf)\n",
    "    v = fade(yf)\n",
    "    # noise components\n",
    "    n00 = gradient(p[p[xi] + yi], xf, yf)\n",
    "    n01 = gradient(p[p[xi] + yi + 1], xf, yf - 1)\n",
    "    n11 = gradient(p[p[xi + 1] + yi + 1], xf - 1, yf - 1)\n",
    "    n10 = gradient(p[p[xi + 1] + yi], xf - 1, yf)\n",
    "    # combine noises\n",
    "    x1 = lerp(n00, n10, u)\n",
    "    x2 = lerp(n01, n11, u)  # FIX1: I was using n10 instead of n01\n",
    "    return lerp(x1, x2, v)  # FIX2: I also had to reverse x1 and x2 here\n",
    "\n",
    "\n",
    "def lerp(a, b, x):\n",
    "    \"linear interpolation\"\n",
    "    return a + x * (b - a)\n",
    "\n",
    "\n",
    "def fade(t):\n",
    "    \"6t^5 - 15t^4 + 10t^3\"\n",
    "    return 6 * t ** 5 - 15 * t ** 4 + 10 * t ** 3\n",
    "\n",
    "\n",
    "def gradient(h, x, y):\n",
    "    \"grad converts h to the right gradient vector and return the dot product with (x,y)\"\n",
    "    vectors = np.array([[0, 1], [0, -1], [1, 0], [-1, 0]])\n",
    "    g = vectors[h % 4]\n",
    "    return g[:, :, 0] * x + g[:, :, 1] * y"
   ]
  },
  {
   "cell_type": "code",
   "execution_count": null,
   "metadata": {},
   "outputs": [],
   "source": [
    "width = 640\n",
    "height = 480\n",
    "FPS = 10\n",
    "seconds = 15  # 1.0\n",
    "frames = int(FPS * seconds)\n",
    "\n",
    "# Could use \"test.mp4\" and the \"H264\" fourcc codec below.\n",
    "FILENAME = \"test.webm\"\n",
    "if os.path.exists(FILENAME):\n",
    "    os.remove(FILENAME)\n",
    "\n",
    "fourcc = VideoWriter_fourcc(*\"VP80\")\n",
    "video = VideoWriter(FILENAME, fourcc, float(FPS), (width, height))\n",
    "\n",
    "for frame_num in range(frames):\n",
    "    # Start with a black background.\n",
    "    frame = np.zeros((height, width, 3), dtype=np.uint8)\n",
    "\n",
    "    lin_x = np.linspace(0, 5, width, endpoint=False)\n",
    "    lin_y = np.linspace(0, 5, height, endpoint=False)\n",
    "    x, y = np.meshgrid(lin_x, lin_y)\n",
    "    noise = perlin(x, y, seed=frame_num)\n",
    "\n",
    "    # Make noise between 0 and 1\n",
    "    noise -= np.min(noise)\n",
    "    noise /= np.max(noise)\n",
    "\n",
    "    frame[:, :, 0] = noise * 255\n",
    "    frame[:, :, 1] = noise * 255\n",
    "    frame[:, :, 2] = noise * 255\n",
    "    video.write(frame)\n",
    "\n",
    "video.release()"
   ]
  },
  {
   "cell_type": "code",
   "execution_count": null,
   "metadata": {},
   "outputs": [],
   "source": [
    "from IPython.display import Video\n",
    "\n",
    "Video(FILENAME, embed=True)"
   ]
  },
  {
   "cell_type": "code",
   "execution_count": null,
   "metadata": {},
   "outputs": [],
   "source": []
  }
 ],
 "metadata": {
  "kernelspec": {
   "display_name": "Python 3",
   "language": "python",
   "name": "python3"
  },
  "language_info": {
   "codemirror_mode": {
    "name": "ipython",
    "version": 3
   },
   "file_extension": ".py",
   "mimetype": "text/x-python",
   "name": "python",
   "nbconvert_exporter": "python",
   "pygments_lexer": "ipython3",
   "version": "3.7.5"
  }
 },
 "nbformat": 4,
 "nbformat_minor": 2
}
